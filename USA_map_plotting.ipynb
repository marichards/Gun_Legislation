{
 "cells": [
  {
   "cell_type": "markdown",
   "metadata": {},
   "source": [
    "# USA Map Plotting\n",
    "\n",
    "The map plotting is kind of important; I'm going to try and get it to work. "
   ]
  },
  {
   "cell_type": "code",
   "execution_count": 1,
   "metadata": {},
   "outputs": [],
   "source": [
    "# Import libraries\n",
    "import pandas as pd\n",
    "import numpy as np\n",
    "import seaborn as sns\n",
    "import matplotlib.pyplot as plt\n",
    "import plotly\n",
    "import plotly.plotly as py"
   ]
  },
  {
   "cell_type": "markdown",
   "metadata": {},
   "source": [
    "Here's the exact code that I got online:"
   ]
  },
  {
   "cell_type": "code",
   "execution_count": 2,
   "metadata": {},
   "outputs": [],
   "source": [
    "# Set Credentials\n",
    "plotly.tools.set_credentials_file(username='marichards88', api_key='Zk7coM3JH3YXjJQkHVHT')"
   ]
  },
  {
   "cell_type": "code",
   "execution_count": 4,
   "metadata": {},
   "outputs": [
    {
     "data": {
      "text/html": [
       "<iframe id=\"igraph\" scrolling=\"no\" style=\"border:none;\" seamless=\"seamless\" src=\"https://plot.ly/~marichards88/2.embed\" height=\"525px\" width=\"100%\"></iframe>"
      ],
      "text/plain": [
       "<plotly.tools.PlotlyDisplay object>"
      ]
     },
     "execution_count": 4,
     "metadata": {},
     "output_type": "execute_result"
    }
   ],
   "source": [
    "# Get ddata\n",
    "df = pd.read_csv('https://raw.githubusercontent.com/plotly/datasets/master/2011_us_ag_exports.csv')\n",
    "\n",
    "for col in df.columns:\n",
    "    df[col] = df[col].astype(str)\n",
    "\n",
    "scl = [[0.0, 'rgb(242,240,247)'],[0.2, 'rgb(218,218,235)'],[0.4, 'rgb(188,189,220)'],\\\n",
    "            [0.6, 'rgb(158,154,200)'],[0.8, 'rgb(117,107,177)'],[1.0, 'rgb(84,39,143)']]\n",
    "\n",
    "df['text'] = df['state'] + '<br>' +\\\n",
    "    'Beef '+df['beef']+' Dairy '+df['dairy']+'<br>'+\\\n",
    "    'Fruits '+df['total fruits']+' Veggies ' + df['total veggies']+'<br>'+\\\n",
    "    'Wheat '+df['wheat']+' Corn '+df['corn']\n",
    "\n",
    "data = [ dict(\n",
    "        type='choropleth',\n",
    "        colorscale = scl,\n",
    "        autocolorscale = False,\n",
    "        locations = df['code'],\n",
    "        z = df['total exports'].astype(float),\n",
    "        locationmode = 'USA-states',\n",
    "        text = df['text'],\n",
    "        marker = dict(\n",
    "            line = dict (\n",
    "                color = 'rgb(255,255,255)',\n",
    "                width = 2\n",
    "            ) ),\n",
    "        colorbar = dict(\n",
    "            title = \"Millions USD\")\n",
    "        ) ]\n",
    "\n",
    "layout = dict(\n",
    "        title = '2011 US Agriculture Exports by State<br>(Hover for breakdown)',\n",
    "        geo = dict(\n",
    "            scope='usa',\n",
    "            projection=dict( type='albers usa' ),\n",
    "            showlakes = True,\n",
    "            lakecolor = 'rgb(255, 255, 255)'),\n",
    "             )\n",
    "    \n",
    "fig = dict( data=data, layout=layout )\n",
    "py.iplot( fig, filename='d3-cloropleth-map' )"
   ]
  },
  {
   "cell_type": "markdown",
   "metadata": {},
   "source": [
    "## Here is my experiment:"
   ]
  },
  {
   "cell_type": "code",
   "execution_count": 11,
   "metadata": {},
   "outputs": [
    {
     "name": "stdout",
     "output_type": "stream",
     "text": [
      "  code        state category total exports   beef  pork poultry   dairy  \\\n",
      "0   AL      Alabama    state       1390.63   34.4  10.6   481.0    4.06   \n",
      "1   AK       Alaska    state         13.31    0.2   0.1     0.0    0.19   \n",
      "2   AZ      Arizona    state       1463.17   71.3  17.9     0.0  105.48   \n",
      "3   AR     Arkansas    state       3586.02   53.2  29.4   562.9    3.53   \n",
      "4   CA   California    state      16472.88  228.7  11.1   225.4  929.95   \n",
      "\n",
      "  fruits fresh fruits proc total fruits veggies fresh veggies proc  \\\n",
      "0          8.0        17.1        25.11           5.5          8.9   \n",
      "1          0.0         0.0          0.0           0.6          1.0   \n",
      "2         19.3        41.0        60.27         147.5        239.4   \n",
      "3          2.2         4.7         6.88           4.4          7.1   \n",
      "4       2791.8      5944.6       8736.4         803.2       1303.5   \n",
      "\n",
      "  total veggies  corn  wheat   cotton  \n",
      "0         14.33  34.9   70.0   317.61  \n",
      "1          1.56   0.0    0.0      0.0  \n",
      "2        386.91   7.3   48.7   423.95  \n",
      "3         11.45  69.5  114.5   665.44  \n",
      "4       2106.79  34.6  249.3  1064.95  \n"
     ]
    }
   ],
   "source": [
    "# Get ddata\n",
    "df = pd.read_csv('https://raw.githubusercontent.com/plotly/datasets/master/2011_us_ag_exports.csv')\n",
    "\n",
    "for col in df.columns:\n",
    "    df[col] = df[col].astype(str)\n",
    "    \n",
    "print(df.head())"
   ]
  },
  {
   "cell_type": "code",
   "execution_count": 6,
   "metadata": {},
   "outputs": [
    {
     "name": "stdout",
     "output_type": "stream",
     "text": [
      "<class 'pandas.core.frame.DataFrame'>\n",
      "Int64Index: 28089 entries, 0 to 192\n",
      "Data columns (total 5 columns):\n",
      "Name      28089 non-null object\n",
      "Office    28089 non-null object\n",
      "Rating    28089 non-null int64\n",
      "State     28089 non-null object\n",
      "Year      28089 non-null int64\n",
      "dtypes: int64(2), object(3)\n",
      "memory usage: 1.3+ MB\n",
      "None\n"
     ]
    }
   ],
   "source": [
    "ratings = pd.read_pickle('./nra_all_years.pickle')\n",
    "ratings.Rating = pd.to_numeric(ratings.Rating)\n",
    "print(ratings.info())"
   ]
  },
  {
   "cell_type": "code",
   "execution_count": 10,
   "metadata": {},
   "outputs": [
    {
     "name": "stdout",
     "output_type": "stream",
     "text": [
      "   State     Rating\n",
      "0         46.805143\n",
      "1     AK  75.144231\n",
      "2     AL  86.281250\n",
      "3     AR  76.937500\n",
      "4     AZ  57.981366\n",
      "5     CA  36.348371\n",
      "6     CO  51.364238\n",
      "7     CT  38.075758\n",
      "8     DE  54.342105\n",
      "9     FL  63.618893\n",
      "10    GA  65.394977\n",
      "11    HI  41.952000\n",
      "12    IA  65.632479\n",
      "13    ID  75.745763\n",
      "14    IL  48.160428\n",
      "15    IN  71.687500\n",
      "16    KS  62.550186\n",
      "17    KY  82.030435\n",
      "18    LA  69.404908\n",
      "19    MA  43.007317\n",
      "20    MD  17.309524\n",
      "21    ME  60.347490\n",
      "22    MI  57.860215\n",
      "23    MN  59.841096\n",
      "24    MO  67.780120\n",
      "25    MS  72.307292\n",
      "26    MT  54.807882\n",
      "27    NA  90.583333\n",
      "28    NC  63.377709\n",
      "29    ND  77.585366\n",
      "30    NE  64.088889\n",
      "31    NH  50.654762\n",
      "32    NJ  34.792308\n",
      "33    NM  66.587065\n",
      "34    NV  58.500000\n",
      "35    NY  33.021739\n",
      "36    OH  70.423387\n",
      "37    OK  80.704762\n",
      "38    OR  49.093960\n",
      "39    PA  65.684444\n",
      "40    RI  59.706522\n",
      "41    SC  75.738170\n",
      "42    SD  70.811321\n",
      "43    TN  76.196262\n",
      "44    TX  72.156667\n",
      "45    UT  74.212121\n",
      "46    VA  54.414035\n",
      "47    VT  48.300380\n",
      "48    WA  60.901961\n",
      "49    WI  65.553785\n",
      "50    WV  79.738462\n",
      "51    WY  70.947826\n"
     ]
    }
   ],
   "source": [
    "# Create state-specific ratings as an experiment\n",
    "state_ratings = ratings.groupby(['State'], as_index=False)[['State','Rating']].mean()\n",
    "print(state_ratings)"
   ]
  },
  {
   "cell_type": "code",
   "execution_count": 13,
   "metadata": {},
   "outputs": [
    {
     "data": {
      "text/html": [
       "<iframe id=\"igraph\" scrolling=\"no\" style=\"border:none;\" seamless=\"seamless\" src=\"https://plot.ly/~marichards88/4.embed\" height=\"525px\" width=\"100%\"></iframe>"
      ],
      "text/plain": [
       "<plotly.tools.PlotlyDisplay object>"
      ]
     },
     "execution_count": 13,
     "metadata": {},
     "output_type": "execute_result"
    }
   ],
   "source": [
    "scl = [[0.0, 'rgb(242,240,247)'],[0.2, 'rgb(218,218,235)'],[0.4, 'rgb(188,189,220)'],\\\n",
    "            [0.6, 'rgb(158,154,200)'],[0.8, 'rgb(117,107,177)'],[1.0, 'rgb(84,39,143)']]\n",
    "\n",
    "state_ratings['text'] = state_ratings['State'] + '<br>' +\\\n",
    "                        'NRA_Rating' + str(state_ratings['Rating'])\n",
    "\n",
    "data = [ dict(\n",
    "        type='choropleth',\n",
    "        colorscale = scl,\n",
    "        autocolorscale = False,\n",
    "        locations = state_ratings['State'],\n",
    "        z = state_ratings['Rating'],\n",
    "        locationmode = 'USA-states',\n",
    "        text = state_ratings['text'],\n",
    "        marker = dict(\n",
    "            line = dict (\n",
    "                color = 'rgb(255,255,255)',\n",
    "                width = 2\n",
    "            ) ),\n",
    "        colorbar = dict(\n",
    "            title = \"NRA Rating\")\n",
    "        ) ]\n",
    "\n",
    "layout = dict(\n",
    "        title = 'Average State NRA Ratings',\n",
    "        geo = dict(\n",
    "            scope='usa',\n",
    "            projection=dict( type='albers usa' ),\n",
    "            showlakes = True,\n",
    "            lakecolor = 'rgb(255, 255, 255)'),\n",
    "             )\n",
    "    \n",
    "fig = dict( data=data, layout=layout )\n",
    "py.iplot( fig, filename='nra_rating_map' )"
   ]
  },
  {
   "cell_type": "code",
   "execution_count": null,
   "metadata": {},
   "outputs": [],
   "source": []
  }
 ],
 "metadata": {
  "kernelspec": {
   "display_name": "Python 3",
   "language": "python",
   "name": "python3"
  },
  "language_info": {
   "codemirror_mode": {
    "name": "ipython",
    "version": 3
   },
   "file_extension": ".py",
   "mimetype": "text/x-python",
   "name": "python",
   "nbconvert_exporter": "python",
   "pygments_lexer": "ipython3",
   "version": "3.6.3"
  }
 },
 "nbformat": 4,
 "nbformat_minor": 2
}
